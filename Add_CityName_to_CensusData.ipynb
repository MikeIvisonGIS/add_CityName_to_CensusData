{
 "cells": [
  {
   "cell_type": "code",
   "execution_count": null,
   "metadata": {},
   "outputs": [],
   "source": [
    "# Import modules\n",
    "import pandas as pd\n",
    "from arcgis.features import GeoAccessor, GeoSeriesAccessor\n",
    "\n",
    "# Note: import geopandas as gpd - Having issues installing geopandas module in a cloned environment!!!\n",
    "# https://developers.arcgis.com/python/guide/part3-introduction-to-pandas/"
   ]
  },
  {
   "cell_type": "markdown",
   "metadata": {},
   "source": [
    "# Prepare table for non-spatial data using Pandas"
   ]
  },
  {
   "cell_type": "code",
   "execution_count": null,
   "metadata": {},
   "outputs": [],
   "source": [
    "# Read the data from csv\n",
    "df_csv = pd.read_csv(r\"D:\\Data\\TIGER_Line_Census\\simplemaps_uscities_basicv1.76\\uscities.csv\")\n",
    "df_csv.head()"
   ]
  },
  {
   "cell_type": "code",
   "execution_count": null,
   "metadata": {},
   "outputs": [],
   "source": [
    "# Make new dataframe containing only the [city] and [zips] columns\n",
    "df_new = df_csv[['city', 'zips']]\n",
    "df_new.head()\n",
    "\n",
    "# https://sparkbyexamples.com/pandas/pandas-create-new-dataframe-by-selecting-specific-columns/"
   ]
  },
  {
   "cell_type": "code",
   "execution_count": null,
   "metadata": {},
   "outputs": [],
   "source": [
    "# Use str.split() to split a column to a list\n",
    "df_new[\"zips\"] = df_new[\"zips\"].str.split(\" \")\n",
    "df_new.head()\n",
    "\n",
    "# https://thats-it-code.com/pandas/how-to-convert-multivalue-column-to-multiple-rows/"
   ]
  },
  {
   "cell_type": "code",
   "execution_count": null,
   "metadata": {},
   "outputs": [],
   "source": [
    "# Convert the column with a list-type value to multiple rows\n",
    "df_new = df_new.explode(\"zips\")\n",
    "#df_new.head()\n",
    "df_new[500:510]"
   ]
  },
  {
   "cell_type": "markdown",
   "metadata": {},
   "source": [
    "# Create spatial dataframe from TIGER_Line_Census .shp"
   ]
  },
  {
   "cell_type": "code",
   "execution_count": null,
   "metadata": {
    "scrolled": true
   },
   "outputs": [],
   "source": [
    "# Create a GeoDataFrame of the zip_census feature class\n",
    "geo_df = pd.DataFrame.spatial.from_featureclass(r\"D:\\Data\\TIGER_Line_Census\\tl_2022_us_zcta520\\tl_2022_us_zcta520.shp\")\n",
    "geo_df.head()\n",
    "\n",
    "# https://developers.arcgis.com/python/api-reference/arcgis.features.toc.html?arcgis.features.GeoAccessor.from_featureclass#arcgis.features.GeoAccessor.from_featureclass:~:text=static%20from_featureclass(,a%20Features%20class."
   ]
  },
  {
   "cell_type": "markdown",
   "metadata": {},
   "source": [
    "# Merge spatial and non-spatial data"
   ]
  },
  {
   "cell_type": "code",
   "execution_count": null,
   "metadata": {},
   "outputs": [],
   "source": [
    "# Merge the dataframes based on zip code. {geo_df - column [GEOID20]}. {df_new - column [zips]}.\n",
    "df_merge = pd.merge(geo_df, df_new, left_on=  ['GEOID20'],\n",
    "                   right_on= ['zips'], \n",
    "                   how = 'right')\n",
    "\n",
    "df_merge.head()"
   ]
  },
  {
   "cell_type": "markdown",
   "metadata": {},
   "source": [
    "# Clean data - Drop unnecessary columns, drop null values"
   ]
  },
  {
   "cell_type": "code",
   "execution_count": null,
   "metadata": {},
   "outputs": [],
   "source": [
    "# Drops the [zips] column as it is not needed in the output\n",
    "df_merge = df_merge.drop(['zips'], axis=1)\n",
    "df_merge.head()"
   ]
  },
  {
   "cell_type": "code",
   "execution_count": null,
   "metadata": {},
   "outputs": [],
   "source": [
    "# Check for null values\n",
    "df_merge.info()"
   ]
  },
  {
   "cell_type": "code",
   "execution_count": null,
   "metadata": {},
   "outputs": [],
   "source": [
    "# Drop null values\n",
    "df_merge = df_merge.dropna()\n",
    "\n",
    "# https://www.geeksforgeeks.org/working-with-missing-data-in-pandas/"
   ]
  },
  {
   "cell_type": "code",
   "execution_count": null,
   "metadata": {
    "scrolled": true
   },
   "outputs": [],
   "source": [
    "# Re-check for null values\n",
    "df_merge.info()"
   ]
  },
  {
   "cell_type": "markdown",
   "metadata": {},
   "source": [
    "# Export result to new polygon shapefile"
   ]
  },
  {
   "cell_type": "code",
   "execution_count": null,
   "metadata": {},
   "outputs": [],
   "source": [
    "# Export resulting dataset to a .shp file\n",
    "df_merge.spatial.to_featureclass(location=r\"D:\\Data\\TIGER_Line_Census\\tl_2022_us_zcta520_cities.shp\")\n",
    "\n",
    "# https://developers.arcgis.com/python/api-reference/arcgis.features.toc.html?arcgis.features.GeoAccessor.from_featureclass#arcgis.features.GeoAccessor.from_featureclass:~:text=to_featureclass(location,a%20feature%20class."
   ]
  },
  {
   "cell_type": "markdown",
   "metadata": {},
   "source": [
    "# Create City Polygons"
   ]
  },
  {
   "cell_type": "code",
   "execution_count": null,
   "metadata": {},
   "outputs": [],
   "source": [
    "# Use ArcGIS Dissolve geoprocessing tool to group polygons by city\n",
    "arcpy.management.Dissolve(\n",
    "    in_features=r\"D:\\Data\\TIGER_Line_Census\\tl_2022_us_zcta520_cities.shp\",\n",
    "    out_feature_class=r\"D:\\GIS_projects\\city_state_county\\city_state_county\\US_City_Boundaries.shp\",\n",
    "    dissolve_field=\"city\",\n",
    "    statistics_fields=None,\n",
    "    multi_part=\"MULTI_PART\",\n",
    "    unsplit_lines=\"DISSOLVE_LINES\",\n",
    "    concatenation_separator=\"\"\n",
    ")\n",
    "\n",
    "# Note: I am running this within ArcGIS Pro, so I did not need to import arcpy.\n",
    "# If running as a standalone python script/jupyter notebook, you must import arcpy.\n",
    "# https://pro.arcgis.com/en/pro-app/latest/tool-reference/data-management/dissolve.htm"
   ]
  }
 ],
 "metadata": {
  "kernelspec": {
   "display_name": "ArcGISPro",
   "language": "Python",
   "name": "python3"
  },
  "language_info": {
   "file_extension": ".py",
   "name": "python",
   "version": "3"
  }
 },
 "nbformat": 4,
 "nbformat_minor": 2
}
